{
 "cells": [
  {
   "cell_type": "code",
   "execution_count": 1,
   "id": "07d4600c",
   "metadata": {},
   "outputs": [],
   "source": [
    "import os, sys\n",
    "module_path = os.path.abspath(os.path.join('..'))\n",
    "if module_path not in sys.path:\n",
    "    sys.path.append(module_path)\n",
    "from configs import STABLEDIFFUSION_API_KEY"
   ]
  },
  {
   "cell_type": "code",
   "execution_count": 5,
   "id": "200f5412",
   "metadata": {
    "scrolled": true
   },
   "outputs": [
    {
     "name": "stdout",
     "output_type": "stream",
     "text": [
      "https://replicate.delivery/pbxt/RUWn1vANoa7KPNI8BAqRGF7hqDSkKQ8tEEcajmio3NoYYuLE/out.mp4\n"
     ]
    }
   ],
   "source": [
    "import replicate\n",
    "\n",
    "replicate_client = replicate.Client(api_token=STABLEDIFFUSION_API_KEY)\n",
    "\n",
    "output = replicate_client.run(\n",
    "    \"cjwbw/damo-text-to-video:1e205ea73084bd17a0a3b43396e49ba0d6bc2e754e9283b2df49fad2dcf95755\",\n",
    "    input={\"prompt\": \"An astronaut riding a horse\"}\n",
    ")\n",
    "print(output)"
   ]
  },
  {
   "cell_type": "code",
   "execution_count": 7,
   "id": "83945de1",
   "metadata": {
    "scrolled": true
   },
   "outputs": [
    {
     "name": "stdout",
     "output_type": "stream",
     "text": [
      "https://replicate.delivery/pbxt/id2v4U9bexwDaiL6QX7fTQ3s7CXfao3B8Klf8k24YG8jOm7CB/out.mp4\n"
     ]
    }
   ],
   "source": [
    "input_dict = {\n",
    "    \"prompt\": \"A pandas eating bamboo\",\n",
    "    \"num_frames\": 16,\n",
    "    \"fps\": 16\n",
    "}\n",
    "\n",
    "output = replicate_client.run(\n",
    "    \"cjwbw/damo-text-to-video:1e205ea73084bd17a0a3b43396e49ba0d6bc2e754e9283b2df49fad2dcf95755\",\n",
    "    input=input_dict\n",
    ")\n",
    "print(output)"
   ]
  },
  {
   "cell_type": "code",
   "execution_count": 8,
   "id": "031aa1b9",
   "metadata": {},
   "outputs": [
    {
     "name": "stdout",
     "output_type": "stream",
     "text": [
      "https://replicate.delivery/pbxt/nNGxHheqXrzHCiSa4VQuSUxhINEyKZjJMQXjWWo7KRLPzcXIA/out.mp4\n"
     ]
    }
   ],
   "source": [
    "input_dict = {\n",
    "    \"prompt\": \"A pandas eating bamboo\",\n",
    "    \"num_frames\": 64*4,\n",
    "    \"fps\": 16\n",
    "}\n",
    "\n",
    "output = replicate_client.run(\n",
    "    \"cjwbw/damo-text-to-video:1e205ea73084bd17a0a3b43396e49ba0d6bc2e754e9283b2df49fad2dcf95755\",\n",
    "    input=input_dict\n",
    ")\n",
    "print(output)"
   ]
  },
  {
   "cell_type": "code",
   "execution_count": null,
   "id": "111dcf79",
   "metadata": {},
   "outputs": [],
   "source": []
  }
 ],
 "metadata": {
  "kernelspec": {
   "display_name": "Ai-cinema-engine-venv",
   "language": "python",
   "name": "venv"
  },
  "language_info": {
   "codemirror_mode": {
    "name": "ipython",
    "version": 3
   },
   "file_extension": ".py",
   "mimetype": "text/x-python",
   "name": "python",
   "nbconvert_exporter": "python",
   "pygments_lexer": "ipython3",
   "version": "3.9.6"
  }
 },
 "nbformat": 4,
 "nbformat_minor": 5
}
